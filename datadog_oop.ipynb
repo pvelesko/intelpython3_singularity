{
 "cells": [
  {
   "cell_type": "code",
   "execution_count": 1,
   "metadata": {},
   "outputs": [
    {
     "data": {
      "text/plain": [
       "'\\nTraversal Methods:\\n1. Random traversal of nearest neighbors\\n    Pros:\\n        no training time\\n    Cons:\\n        Low efficiency: ~25% fuel left\\n\\nOptimizations:\\n1. Reduced potential breweries to max round trip\\n2. Neighbor list precompute (memory requirements O(n^2))\\n'"
      ]
     },
     "execution_count": 1,
     "metadata": {},
     "output_type": "execute_result"
    }
   ],
   "source": [
    "\"\"\"\n",
    "Traversal Methods:\n",
    "1. Random traversal of nearest neighbors\n",
    "    Pros:\n",
    "        no training time\n",
    "    Cons:\n",
    "        Low efficiency: ~25% fuel left\n",
    "\n",
    "Optimizations:\n",
    "1. Reduced potential breweries to max round trip\n",
    "2. Neighbor list precompute (memory requirements O(n^2))\n",
    "\"\"\""
   ]
  },
  {
   "cell_type": "code",
   "execution_count": 7,
   "metadata": {},
   "outputs": [],
   "source": [
    "import pandas as pd\n",
    "import numpy as np\n",
    "import haversine\n",
    "import random\n",
    "import timeit\n",
    "from IPython.display import clear_output"
   ]
  },
  {
   "cell_type": "code",
   "execution_count": 10,
   "metadata": {},
   "outputs": [],
   "source": [
    "def get_coords(a, data):\n",
    "    lat = data.loc[a]['latitude']\n",
    "    lon = data.loc[a]['longitude']\n",
    "    return (lat, lon)\n",
    "\n",
    "def dist_coord(x,y):\n",
    "    h = haversine.haversine(x, y)\n",
    "    return h\n",
    "\n",
    "def dist_id(x, y, data):\n",
    "    \"\"\"\n",
    "    Why did I do it this way?\n",
    "    \"\"\"\n",
    "    if type(data) == pd.core.frame.DataFrame:\n",
    "        return dist_coord(get_coords(x, data), get_coords(y, data))\n",
    "    if type(data) == BeerTour: \n",
    "        x_id = int(np.where(env.ids_np == x)[0])\n",
    "        y_id = int(np.where(env.ids_np == y)[0])\n",
    "        x = data.lat_np[x_id], data.lon_np[x_id]\n",
    "        y = data.lat_np[y_id], data.lon_np[y_id]\n",
    "        return dist_coord(x, y)\n",
    "\n",
    "class BeerTour:\n",
    "    def get_coords_np(a):\n",
    "        i = ids_np[a]\n",
    "        return (lat_np[i], lon_np[i])\n",
    "        \n",
    "    def get_neighbors(self, idx, data):\n",
    "        # apply lambda to return df containing distances between brewery idx and all other breweries\n",
    "        # Sorted nearest to furthest\n",
    "        # TODO convert to use numpy\n",
    "        a = pd.DataFrame(data.apply(lambda x: dist_coord(data.loc[idx], x), axis=1).sort_values())\n",
    "        a.columns = [\"distance to id %d\" % idx]\n",
    "        return a\n",
    "    \n",
    "    def __init__(self, lat, lon, max_km):\n",
    "        self.max_km = max_km\n",
    "        self.beers = pd.read_csv(\"csv_data/beers.csv\").set_index('brewery_id')\n",
    "        self.breweries = pd.read_csv(\"csv_data/breweries.csv\").set_index('id')\n",
    "        self.categories = pd.read_csv(\"csv_data/categories.csv\")\n",
    "        geocodes = pd.read_csv(\"csv_data/geocodes.csv\").set_index('id')\n",
    "        self.styles = pd.read_csv(\"csv_data/styles.csv\").set_index('id')\n",
    "        coords = geocodes[['latitude', 'longitude']]\n",
    "        \n",
    "        # Add home location\n",
    "        home = pd.Series({'latitude': lat, 'longitude': lon }, name=0)\n",
    "        coords = coords.append(home)\n",
    "        self.coords = coords.sort_index()\n",
    "        \n",
    "        # reduce candidates to 1/2 fuel\n",
    "        neigh = self.get_neighbors(0, coords)\n",
    "        a = neigh[self.get_neighbors(0, coords) < (max_km/2)] # TODO fix as param\n",
    "        a = a.dropna()\n",
    "        ids = a.index\n",
    "        coords = coords.loc[ids]\n",
    "        \n",
    "        # Convert to umpy arrays for faster access\n",
    "        self.lat_np = np.array(list(coords['latitude']))\n",
    "        self.lon_np = np.array(list(coords['longitude']))\n",
    "        self.ids_np = np.array(list(coords.index))\n",
    "        \n",
    "        # make neighbor list\n",
    "        t = timeit.default_timer()\n",
    "        max_neighbors = len(coords)\n",
    "        def n_nearest_neigh(idx, data, n = max_neighbors):\n",
    "            return list(self.get_neighbors(idx, data).index[1:n+1])\n",
    "\n",
    "        coord_idx = (list(coords.index))\n",
    "        coord_idx\n",
    "        neigh_list = []\n",
    "        for idxs in coord_idx:\n",
    "            #clear_output()\n",
    "            #print(\"Computing neighbor list for id %d\" % idxs)\n",
    "            neigh_list.append((n_nearest_neigh(idxs, coords)))\n",
    "        self.nlist_np = np.array(neigh_list)    \n",
    "        ndf = pd.DataFrame(neigh_list)\n",
    "        ndf.index = coord_idx\n",
    "        coords['neighbors'] = neigh_list\n",
    "        mem = len(coords) ** 2 * 8 / (max_km/2)\n",
    "        print(\"Memory required for neighbor list %dkB\" % mem)\n",
    "\n",
    "        t = timeit.default_timer() - t\n",
    "        print(\"Time to compute neighbor list: %fs\" % t)\n",
    "        self.coords = coords\n",
    "        self.neigh_list = neigh_list\n",
    "        \n",
    "        self.pos = 0 # start at HOME node\n",
    "        self.rew_big = 10\n",
    "        self.rew_small = 10\n",
    "        self.rew_big = 10\n",
    "        \n",
    "    # DQL \n",
    "    def take_action(self, next_node, fuel):\n",
    "        # Reward outward movement when fuel > 50%\n",
    "        # Reward inward movement when fuel > 50%\n",
    "        dist_to_home_current = dist_id(0, self.pos, self) \n",
    "        dist_to_home_next = dist_id(0, next_node, self) \n",
    "        inward = dist_to_home_current > dist_to_home_next\n",
    "        self.state = next_node\n",
    "        if fuel < 0.5 and inward:\n",
    "            reward = self.rew_big\n",
    "        else:\n",
    "            reward = self.rew_small\n",
    "        return reward\n",
    "\n",
    "\n",
    "\n"
   ]
  },
  {
   "cell_type": "code",
   "execution_count": 9,
   "metadata": {},
   "outputs": [
    {
     "name": "stdout",
     "output_type": "stream",
     "text": [
      "too few args.. running with default\n",
      "Memory required for neighbor list 739kB\n",
      "Time to compute neighbor list: 26.521845s\n"
     ]
    }
   ],
   "source": [
    "import sys\n",
    "if __name__ == \"__main__\":\n",
    "    if len(sys.argv) < 4:\n",
    "        print(\"too few args.. running with default\")\n",
    "        env = BeerTour(51.355468, 11.100790, 2000)\n",
    "else:   \n",
    "    lat = int(sys.argv[1])\n",
    "    long = int(sys.argv[2])\n",
    "    iters = int(sys.argv[3])\n",
    "    env = BeerTour(lat, long, iters)"
   ]
  },
  {
   "cell_type": "code",
   "execution_count": 27,
   "metadata": {},
   "outputs": [],
   "source": [
    "# Satisfy requirement to store data into a DB\n",
    "# https://stackoverflow.com/questions/18621513/python-insert-numpy-array-into-sqlite3-database\n",
    "import sqlite3\n",
    "import io\n",
    "conn = sqlite3.connect('beerdb.sqlite')\n",
    "cur = conn.cursor()\n",
    "\n",
    "\n",
    "\n",
    "def adapt_array(arr):\n",
    "    \"\"\"\n",
    "    http://stackoverflow.com/a/31312102/190597 (SoulNibbler)\n",
    "    \"\"\"\n",
    "    out = io.BytesIO()\n",
    "    np.save(out, arr)\n",
    "    out.seek(0)\n",
    "    return sqlite3.Binary(out.read())\n",
    "sqlite3.register_adapter(np.ndarray, adapt_array)\n",
    "\n",
    "\n",
    "cur.execute(\"create table beer (arr array)\")\n",
    "cur.execute(\"insert into beer (arr) values (?)\", (env.lat_np, ))\n",
    "\n",
    "\n",
    "conn.close()"
   ]
  },
  {
   "cell_type": "code",
   "execution_count": 6,
   "metadata": {},
   "outputs": [],
   "source": [
    "class random_halo():\n",
    "    def __init__(self, env, max_dist):\n",
    "        self.coords = env.coords\n",
    "        self.nlist = env.nlist_np\n",
    "        self.max_dist = max_dist\n",
    "        self.km = 0\n",
    "        \n",
    "    def get_next_id(self, curr, visited):          \n",
    "        #neigh = self.coords.loc[curr]['neighbors'] # neighbor list for current id\n",
    "        i = int(np.where(env.ids_np == curr)[0])\n",
    "        neigh = env.nlist_np[i]\n",
    "        try_count = 0     \n",
    "        # this is where decision happens\n",
    "        radius = 3 # start with this sized halo\n",
    "        while(True):\n",
    "            try_count+=1\n",
    "            # Bound to coords\n",
    "            idx = min(random.randint(0,radius-1), len(env.coords))\n",
    "            next_id = neigh[idx]\n",
    "            if (next_id not in set(visited)): break\n",
    "            # number of tries scaling with radius\n",
    "            if (try_count > radius**2): radius+=1\n",
    "                \n",
    "        # Check if next_id is within available range, if not go home\n",
    "        dist_next = dist_id(curr, next_id, env)\n",
    "        dist_next_home = dist_id(next_id, 0, env)\n",
    "        dist_home = dist_id(curr, 0, env)\n",
    "        \n",
    "        if dist_next + dist_next_home < (self.max_dist - self.km):\n",
    "            self.km += dist_next\n",
    "        else:\n",
    "            next_id = -1\n",
    "            self.km += dist_home\n",
    "        #print(\"Current ID: %d Next ID: %d Distance Travelled: %f\" %(curr, next_id, self.km))\n",
    "        return next_id\n",
    "\n"
   ]
  },
  {
   "cell_type": "code",
   "execution_count": 7,
   "metadata": {
    "scrolled": true
   },
   "outputs": [],
   "source": [
    "def fly(max_dist = 2000):\n",
    "    agent = random_halo(env, max_dist)\n",
    "    visited = []\n",
    "    curr = 0\n",
    "    reward = 0\n",
    "    next_id = 0\n",
    "    while(True):\n",
    "        visited.append(curr)\n",
    "        next_id = agent.get_next_id(curr, visited)\n",
    "        if next_id == -1: break\n",
    "        curr = next_id\n",
    "        reward += env.take_action(next_id, agent.km)\n",
    "    return visited, agent.km, reward"
   ]
  },
  {
   "cell_type": "code",
   "execution_count": 8,
   "metadata": {
    "scrolled": true
   },
   "outputs": [
    {
     "name": "stdout",
     "output_type": "stream",
     "text": [
      "Max: 0 Visited 32, Travelled: 1989.053022 Reward: 310.000000 Done in 0.006176s\n"
     ]
    },
    {
     "name": "stderr",
     "output_type": "stream",
     "text": [
      "/home/pvelesko/.local/lib/python3.6/site-packages/ipykernel_launcher.py:12: FutureWarning: \n",
      "Passing list-likes to .loc or [] with any missing label will raise\n",
      "KeyError in the future, you can use .reindex() as an alternative.\n",
      "\n",
      "See the documentation here:\n",
      "https://pandas.pydata.org/pandas-docs/stable/indexing.html#deprecate-loc-reindex-listlike\n",
      "  if sys.path[0] == '':\n"
     ]
    },
    {
     "name": "stdout",
     "output_type": "stream",
     "text": [
      "Max: 4180 Visited 61, Travelled: 1995.390859 Reward: 600.000000 Done in 0.014941s\n",
      "Max: 4180 Visited 13, Travelled: 1852.635365 Reward: 120.000000 Done in 0.002634s\n",
      "Max: 4180 Visited 13, Travelled: 1788.052181 Reward: 120.000000 Done in 0.002707s\n",
      "Max: 4180 Visited 71, Travelled: 1987.806919 Reward: 700.000000 Done in 0.020460s\n",
      "Max: 4224 Visited 32, Travelled: 1934.653682 Reward: 310.000000 Done in 0.007850s\n",
      "Max: 4224 Visited 67, Travelled: 1993.254316 Reward: 660.000000 Done in 0.017763s\n",
      "Max: 4275 Visited 74, Travelled: 1987.342800 Reward: 730.000000 Done in 0.016724s\n",
      "Max: 4444 Visited 41, Travelled: 1996.523426 Reward: 400.000000 Done in 0.007208s\n",
      "Max: 4444 Visited 69, Travelled: 1946.118770 Reward: 680.000000 Done in 0.013886s\n",
      "Time: 11.411668s\n"
     ]
    }
   ],
   "source": [
    "maxout = 0\n",
    "best_res = \"\"\n",
    "t_run = timeit.default_timer()\n",
    "fly_data = []\n",
    "for i in range(env.max_km):\n",
    "    t = timeit.default_timer()\n",
    "    visited, km, reward = fly()\n",
    "    fly_data.append([visited, km, reward])\n",
    "    t = timeit.default_timer() - t\n",
    "    \n",
    "    # Parse out total unique beer styles collected\n",
    "    style_ids = env.beers.loc[visited]['style_id'] # all styles visited\n",
    "    style_ids = style_ids.dropna() # drop beers for which style is unknown\n",
    "    style_ids = style_ids[style_ids != -1] # drop -1s \n",
    "    collected_styles = env.styles.loc[style_ids]\n",
    "    collected_styles = collected_styles.drop_duplicates()\n",
    "\n",
    "    res = \"Max: %d Visited %d, Travelled: %f Reward: %f Done in %fs\" %(maxout, len(visited), km, reward, t)\n",
    "    if (i % 50 == 0):\n",
    "        #clear_output()\n",
    "        print(res)\n",
    "        \n",
    "    maximize = 2\n",
    "    # Maximize Beer styles collected\n",
    "    if maximize == 0: maxtest = len(collected_styles)\n",
    "    if maximize == 1: maxtest = len(visited)\n",
    "    if maximize == 2: maxtest = len(collected_styles) * len(visited)\n",
    "        \n",
    "    if maxtest > maxout:\n",
    "        maxout = maxtest\n",
    "        best_res = (visited, km, collected_styles)\n",
    "       \n",
    "        \n",
    "        \n",
    "t_run = timeit.default_timer() - t_run\n",
    "print(\"Time: %fs\" % t_run)"
   ]
  },
  {
   "cell_type": "code",
   "execution_count": 9,
   "metadata": {
    "scrolled": true
   },
   "outputs": [
    {
     "name": "stdout",
     "output_type": "stream",
     "text": [
      "=======================================================\n",
      "Visited 101 breweries. Distance Travelled: 1993.284938 \n",
      "Beer Styles Collected: 44\n",
      "    => Porter\n",
      "    => American-Style Lager\n",
      "    => American-Style India Pale Ale\n",
      "    => American-Style Stout\n",
      "    => Traditional German-Style Bock\n",
      "    => American-Style Brown Ale\n",
      "    => American-Style Amber/Red Ale\n",
      "    => South German-Style Weizenbock\n",
      "    => American-Style Pale Ale\n",
      "    => Light American Wheat Ale or Lager\n",
      "    => Imperial or Double India Pale Ale\n",
      "    => Belgian-Style Tripel\n",
      "    => Belgian-Style Dubbel\n",
      "    => Old Ale\n",
      "    => German-Style Pilsener\n",
      "    => English-Style Pale Mild Ale\n",
      "    => American-Style Barley Wine Ale\n",
      "    => South German-Style Hefeweizen\n",
      "    => Classic English-Style Pale Ale\n",
      "    => American-Style Imperial Stout\n",
      "    => German-Style Schwarzbier\n",
      "    => German-Style Oktoberfest\n",
      "    => European Low-Alcohol Lager\n",
      "    => Scotch Ale\n",
      "    => Belgian-Style Fruit Lambic\n",
      "    => French & Belgian-Style Saison\n",
      "    => Belgian-Style Pale Strong Ale\n",
      "    => Belgian-Style Dark Strong Ale\n",
      "    => Golden or Blonde Ale\n",
      "    => Winter Warmer\n",
      "    => American-Style Light Lager\n",
      "    => Pumpkin Beer\n",
      "    => Belgian-Style White\n",
      "    => Belgian-Style Quadrupel\n",
      "    => Other Belgian-Style Ales\n",
      "    => Dark American-Belgo-Style Ale\n",
      "    => Belgian-Style Pale Ale\n",
      "    => American-Style Strong Pale Ale\n",
      "    => English-Style India Pale Ale\n",
      "    => Extra Special Bitter\n",
      "    => Oatmeal Stout\n",
      "    => German-Style Brown Ale/Altbier\n",
      "    => German-Style Heller Bock/Maibock\n",
      "    => Fruit Beer\n"
     ]
    }
   ],
   "source": [
    "l = \"Visited %d breweries. Distance Travelled: %f \" % (len(best_res[0]), best_res[1])\n",
    "print(len(l)*\"=\")\n",
    "print(l)\n",
    "styles = list(best_res[2]['style_name'])\n",
    "print(\"Beer Styles Collected: %d\" % len(styles))\n",
    "for style in styles:\n",
    "    print(\"    => %s\" % style)\n"
   ]
  },
  {
   "cell_type": "code",
   "execution_count": 10,
   "metadata": {},
   "outputs": [],
   "source": [
    "fly_df = pd.DataFrame(fly_data)\n",
    "with open('fly_data.csv', 'a') as f:\n",
    "    fly_df.to_csv(f, header=False)"
   ]
  },
  {
   "cell_type": "code",
   "execution_count": 13,
   "metadata": {},
   "outputs": [
    {
     "ename": "ModuleNotFoundError",
     "evalue": "No module named 'Basemap'",
     "output_type": "error",
     "traceback": [
      "\u001b[0;31m---------------------------------------------------------------------------\u001b[0m",
      "\u001b[0;31mModuleNotFoundError\u001b[0m                       Traceback (most recent call last)",
      "\u001b[0;32m<ipython-input-13-36db4160a223>\u001b[0m in \u001b[0;36m<module>\u001b[0;34m\u001b[0m\n\u001b[0;32m----> 1\u001b[0;31m \u001b[0;32mimport\u001b[0m \u001b[0mBasemap\u001b[0m\u001b[0;34m\u001b[0m\u001b[0m\n\u001b[0m\u001b[1;32m      2\u001b[0m m = Basemap(llcrnrlon=lon_min,\n\u001b[1;32m      3\u001b[0m             \u001b[0mllcrnrlat\u001b[0m\u001b[0;34m=\u001b[0m\u001b[0mlat_min\u001b[0m\u001b[0;34m,\u001b[0m\u001b[0;34m\u001b[0m\u001b[0m\n\u001b[1;32m      4\u001b[0m             \u001b[0murcrnrlon\u001b[0m\u001b[0;34m=\u001b[0m\u001b[0mlon_max\u001b[0m\u001b[0;34m,\u001b[0m\u001b[0;34m\u001b[0m\u001b[0m\n\u001b[1;32m      5\u001b[0m             \u001b[0murcrnrlat\u001b[0m\u001b[0;34m=\u001b[0m\u001b[0mlat_max\u001b[0m\u001b[0;34m,\u001b[0m\u001b[0;34m\u001b[0m\u001b[0m\n",
      "\u001b[0;31mModuleNotFoundError\u001b[0m: No module named 'Basemap'"
     ]
    }
   ],
   "source": [
    "import Basemap\n",
    "m = Basemap(llcrnrlon=lon_min,\n",
    "            llcrnrlat=lat_min,\n",
    "            urcrnrlon=lon_max,\n",
    "            urcrnrlat=lat_max,\n",
    "            lat_0=(lat_max - lat_min)/2,\n",
    "            lon_0=(lon_max-lon_min)/2,\n",
    "            projection='merc',\n",
    "            resolution = 'h',\n",
    "            area_thresh=10000.,\n",
    "            )"
   ]
  }
 ],
 "metadata": {
  "kernelspec": {
   "display_name": "Python 3",
   "language": "python",
   "name": "python3"
  },
  "language_info": {
   "codemirror_mode": {
    "name": "ipython",
    "version": 3
   },
   "file_extension": ".py",
   "mimetype": "text/x-python",
   "name": "python",
   "nbconvert_exporter": "python",
   "pygments_lexer": "ipython3",
   "version": "3.6.5"
  }
 },
 "nbformat": 4,
 "nbformat_minor": 2
}
