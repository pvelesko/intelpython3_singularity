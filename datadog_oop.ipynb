{
 "cells": [
  {
   "cell_type": "code",
   "execution_count": 1,
   "metadata": {},
   "outputs": [
    {
     "data": {
      "text/plain": [
       "'\\nTraversal Methods:\\n1. Random traversal of nearest neighbors\\n    Pros:\\n        no training time\\n    Cons:\\n        Low efficiency: ~25% fuel left\\n\\nOptimizations:\\n1. Reduced potential breweries to max round trip\\n2. Neighbor list precompute (memory requirements O(n^2))\\n'"
      ]
     },
     "execution_count": 1,
     "metadata": {},
     "output_type": "execute_result"
    }
   ],
   "source": [
    "\"\"\"\n",
    "Traversal Methods:\n",
    "1. Random traversal of nearest neighbors\n",
    "    Pros:\n",
    "        no training time\n",
    "    Cons:\n",
    "        Low efficiency: ~25% fuel left\n",
    "\n",
    "Optimizations:\n",
    "1. Reduced potential breweries to max round trip\n",
    "2. Neighbor list precompute (memory requirements O(n^2))\n",
    "\"\"\""
   ]
  },
  {
   "cell_type": "code",
   "execution_count": 2,
   "metadata": {},
   "outputs": [],
   "source": [
    "import pandas as pd\n",
    "import numpy as np\n",
    "import haversine\n",
    "import random\n",
    "import timeit\n",
    "from IPython.display import clear_output"
   ]
  },
  {
   "cell_type": "code",
   "execution_count": 3,
   "metadata": {},
   "outputs": [],
   "source": [
    "def get_coords(a, data):\n",
    "    lat = data.loc[a]['latitude']\n",
    "    lon = data.loc[a]['longitude']\n",
    "    return (lat, lon)\n",
    "\n",
    "def dist_coord(x,y):\n",
    "    h = haversine.haversine(x, y)\n",
    "    return h\n",
    "\n",
    "def dist_id(x, y, data):\n",
    "    return dist_coord(get_coords(x, data), get_coords(y, data))\n",
    "\n",
    "class BeerTour:\n",
    "    def get_neighbors(self, idx, data):\n",
    "        # apply lambda to return df containing distances between brewery idx and all other breweries\n",
    "        # Sorted nearest to furthest\n",
    "        a = pd.DataFrame(data.apply(lambda x: dist_coord(data.loc[idx], x), axis=1).sort_values())\n",
    "        a.columns = [\"distance to id %d\" % idx]\n",
    "        return a\n",
    "    \n",
    "    def __init__(self):\n",
    "        self.beers = pd.read_csv(\"csv_data/beers.csv\").set_index('brewery_id')\n",
    "        self.breweries = pd.read_csv(\"csv_data/breweries.csv\").set_index('id')\n",
    "        self.categories = pd.read_csv(\"csv_data/categories.csv\")\n",
    "        geocodes = pd.read_csv(\"csv_data/geocodes.csv\").set_index('id')\n",
    "        self.styles = pd.read_csv(\"csv_data/styles.csv\").set_index('id')\n",
    "        coords = geocodes[['latitude', 'longitude']]\n",
    "        \n",
    "        # Add home location\n",
    "        home = pd.Series({'latitude': 51.355468, 'longitude': 11.100790 }, name=0)\n",
    "        coords = coords.append(home)\n",
    "        self.coords = coords.sort_index()\n",
    "        \n",
    "        # reduce candidates to 1/2 fuel\n",
    "        neigh = self.get_neighbors(0, coords)\n",
    "        a = neigh[self.get_neighbors(0, coords) < 1000] # TODO fix as param\n",
    "        a = a.dropna()\n",
    "        ids = a.index\n",
    "        coords = coords.loc[ids]\n",
    "        \n",
    "        # make neighbor list\n",
    "        t = timeit.default_timer()\n",
    "        max_neighbors = len(coords)\n",
    "        def n_nearest_neigh(idx, data, n = max_neighbors):\n",
    "            return list(self.get_neighbors(idx, data).index[1:n+1])\n",
    "\n",
    "        coord_idx = (list(coords.index))\n",
    "        coord_idx\n",
    "        neigh_list = []\n",
    "        for idxs in coord_idx:\n",
    "            #clear_output()\n",
    "            #print(\"Computing neighbor list for id %d\" % idxs)\n",
    "            neigh_list.append((n_nearest_neigh(idxs, coords)))\n",
    "            \n",
    "        ndf = pd.DataFrame(neigh_list)\n",
    "        ndf.index = coord_idx\n",
    "        coords['neighbors'] = neigh_list\n",
    "        coords\n",
    "        mem = len(coords) ** 2 * 8 / 1000\n",
    "        print(\"Memory required for neighbor list %dkB\" % mem)\n",
    "\n",
    "        t = timeit.default_timer() - t\n",
    "        print(\"Time to compute neighbor list: %fs\" % t)\n",
    "        self.coords = coords\n",
    "        self.neigh_list = neigh_list\n",
    "        \n",
    "        self.pos = 0 # start at HOME node\n",
    "        self.rew_big = 10\n",
    "        self.rew_small = 10\n",
    "        self.rew_big = 10\n",
    "        \n",
    "    # DQL \n",
    "    def take_action(self, next_node, fuel):\n",
    "        # Reward outward movement when fuel > 50%\n",
    "        # Reward inward movement when fuel > 50%\n",
    "        dist_to_home_current = dist_id(0, self.pos, self.coords) \n",
    "        dist_to_home_next = dist_id(0, next_node, self.coords) \n",
    "        inward = dist_to_home_current > dist_to_home_next\n",
    "        self.state = next_node\n",
    "        if fuel < 0.5 and inward:\n",
    "            reward = self.rew_big\n",
    "        else:\n",
    "            reward = self.rew_small\n",
    "        return reward\n",
    "\n",
    "\n",
    "\n"
   ]
  },
  {
   "cell_type": "code",
   "execution_count": 4,
   "metadata": {},
   "outputs": [
    {
     "name": "stdout",
     "output_type": "stream",
     "text": [
      "Memory required for neighbor list 739kB\n",
      "Time to compute neighbor list: 26.159465s\n"
     ]
    }
   ],
   "source": [
    "env = BeerTour()"
   ]
  },
  {
   "cell_type": "code",
   "execution_count": 5,
   "metadata": {},
   "outputs": [],
   "source": [
    "# Satisfy requirement to store data into a DB\n",
    "#from sqlalchemy import create_engine\n",
    "#engine = create_engine('sqlite://', echo=False)\n",
    "#env.coords.to_sql('breweries', con=engine, index=False)"
   ]
  },
  {
   "cell_type": "code",
   "execution_count": 6,
   "metadata": {},
   "outputs": [],
   "source": [
    "class random_halo():\n",
    "    def __init__(self, env, max_dist = 2000):\n",
    "        self.coords = env.coords\n",
    "        self.max_dist = max_dist\n",
    "        self.km = 0\n",
    "        \n",
    "    def get_next_id(self, curr, visited):          \n",
    "        neigh = self.coords.loc[curr]['neighbors'] # neighbor list for current id\n",
    "        try_count = 0     \n",
    "        # this is where decision happens\n",
    "        radius = 3 # start with this sized halo\n",
    "        while(True):\n",
    "            try_count+=1\n",
    "            # Bound to coords\n",
    "            idx = min(random.randint(0,radius-1), len(env.coords))\n",
    "            next_id = neigh[idx]\n",
    "            if (next_id not in set(visited)): break\n",
    "            # number of tries scaling with radius\n",
    "            if (try_count > radius**2): radius+=1\n",
    "                \n",
    "        # Check if next_id is within available range, if not go home\n",
    "        dist_next = dist_id(curr, next_id, env.coords)\n",
    "        dist_next_home = dist_id(next_id, 0, env.coords)\n",
    "        dist_home = dist_id(curr, 0, env.coords)\n",
    "        \n",
    "        if dist_next + dist_next_home < (self.max_dist - self.km):\n",
    "            self.km += dist_next\n",
    "        else:\n",
    "            next_id = -1\n",
    "            self.km += dist_home\n",
    "        #print(\"Current ID: %d Next ID: %d Distance Travelled: %f\" %(curr, next_id, self.km))\n",
    "        return next_id\n",
    "\n"
   ]
  },
  {
   "cell_type": "code",
   "execution_count": 7,
   "metadata": {
    "scrolled": true
   },
   "outputs": [],
   "source": [
    "def fly(max_dist = 2000):\n",
    "    agent = random_halo(env)\n",
    "    visited = []\n",
    "    curr = 0\n",
    "    reward = 0\n",
    "    next_id = 0\n",
    "    while(True):\n",
    "        visited.append(curr)\n",
    "        next_id = agent.get_next_id(curr, visited)\n",
    "        if next_id == -1: break\n",
    "        curr = next_id\n",
    "        reward += env.take_action(next_id, agent.km)\n",
    "    return visited, agent.km, reward"
   ]
  },
  {
   "cell_type": "code",
   "execution_count": 11,
   "metadata": {
    "scrolled": true
   },
   "outputs": [
    {
     "name": "stderr",
     "output_type": "stream",
     "text": [
      "/home/pvelesko/.local/lib/python3.6/site-packages/ipykernel_launcher.py:12: FutureWarning: \n",
      "Passing list-likes to .loc or [] with any missing label will raise\n",
      "KeyError in the future, you can use .reindex() as an alternative.\n",
      "\n",
      "See the documentation here:\n",
      "https://pandas.pydata.org/pandas-docs/stable/indexing.html#deprecate-loc-reindex-listlike\n",
      "  if sys.path[0] == '':\n"
     ]
    },
    {
     "name": "stdout",
     "output_type": "stream",
     "text": [
      "Max: 0 Visited 13, Travelled: 1862.642944 Reward: 120.000000 Done in 0.090042s\n",
      "Time: 17.183068s\n"
     ]
    }
   ],
   "source": [
    "max_visited = 0\n",
    "best_res = \"\"\n",
    "t_run = timeit.default_timer()\n",
    "fly_data = []\n",
    "for i in range(50):\n",
    "    t = timeit.default_timer()\n",
    "    visited, km, reward = fly()\n",
    "    fly_data.append([visited, km, reward])\n",
    "    t = timeit.default_timer() - t\n",
    "    \n",
    "    # Parse out total unique beer styles collected\n",
    "    style_ids = env.beers.loc[visited]['style_id'] # all styles visited\n",
    "    style_ids = style_ids.dropna() # drop beers for which style is unknown\n",
    "    style_ids = style_ids[style_ids != -1] # drop -1s \n",
    "    collected_styles = env.styles.loc[style_ids]\n",
    "    collected_styles = collected_styles.drop_duplicates()\n",
    "\n",
    "    res = \"Max: %d Visited %d, Travelled: %f Reward: %f Done in %fs\" %(max_visited, len(visited), km, reward, t)\n",
    "    if (i % 50 == 0):\n",
    "        #clear_output()\n",
    "        print(res)\n",
    "    \n",
    "    # Maximize Beer styles collected\n",
    "    if len(collected_styles) > max_visited:\n",
    "        max_visited = len(collected_styles)\n",
    "        best_res = (visited, km, collected_styles)\n",
    "        \n",
    "t_run = timeit.default_timer() - t_run\n",
    "print(\"Time: %fs\" % t_run)"
   ]
  },
  {
   "cell_type": "code",
   "execution_count": 9,
   "metadata": {
    "scrolled": true
   },
   "outputs": [
    {
     "name": "stdout",
     "output_type": "stream",
     "text": [
      "======================================================\n",
      "Visited 94 breweries. Distance Travelled: 1991.534797 \n",
      "Beer Styles Collected: 44\n",
      "    => American-Style Lager\n",
      "    => American-Style India Pale Ale\n",
      "    => American-Style Stout\n",
      "    => Traditional German-Style Bock\n",
      "    => American-Style Brown Ale\n",
      "    => American-Style Amber/Red Ale\n",
      "    => Light American Wheat Ale or Lager\n",
      "    => American-Style Pale Ale\n",
      "    => Imperial or Double India Pale Ale\n",
      "    => Belgian-Style Tripel\n",
      "    => Belgian-Style Dubbel\n",
      "    => Old Ale\n",
      "    => German-Style Pilsener\n",
      "    => English-Style Pale Mild Ale\n",
      "    => American-Style Barley Wine Ale\n",
      "    => South German-Style Hefeweizen\n",
      "    => South German-Style Weizenbock\n",
      "    => Classic English-Style Pale Ale\n",
      "    => American-Style Imperial Stout\n",
      "    => German-Style Schwarzbier\n",
      "    => German-Style Oktoberfest\n",
      "    => European Low-Alcohol Lager\n",
      "    => Porter\n",
      "    => Scotch Ale\n",
      "    => Belgian-Style Fruit Lambic\n",
      "    => American-Style Light Lager\n",
      "    => Pumpkin Beer\n",
      "    => Belgian-Style White\n",
      "    => French & Belgian-Style Saison\n",
      "    => Belgian-Style Pale Strong Ale\n",
      "    => Belgian-Style Dark Strong Ale\n",
      "    => Golden or Blonde Ale\n",
      "    => Winter Warmer\n",
      "    => German-Style Brown Ale/Altbier\n",
      "    => German-Style Heller Bock/Maibock\n",
      "    => Oatmeal Stout\n",
      "    => Fruit Beer\n",
      "    => Other Belgian-Style Ales\n",
      "    => Belgian-Style Quadrupel\n",
      "    => Dark American-Belgo-Style Ale\n",
      "    => Belgian-Style Pale Ale\n",
      "    => American-Style Strong Pale Ale\n",
      "    => English-Style India Pale Ale\n",
      "    => Extra Special Bitter\n"
     ]
    }
   ],
   "source": [
    "l = \"Visited %d breweries. Distance Travelled: %f \" % (len(best_res[0]), best_res[1])\n",
    "print(len(l)*\"=\")\n",
    "print(l)\n",
    "styles = list(best_res[2]['style_name'])\n",
    "print(\"Beer Styles Collected: %d\" % len(styles))\n",
    "for style in styles:\n",
    "    print(\"    => %s\" % style)\n"
   ]
  },
  {
   "cell_type": "code",
   "execution_count": 10,
   "metadata": {},
   "outputs": [],
   "source": [
    "fly_df = pd.DataFrame(fly_data)\n",
    "with open('fly_data.csv', 'a') as f:\n",
    "    fly_df.to_csv(f, header=False)"
   ]
  }
 ],
 "metadata": {
  "kernelspec": {
   "display_name": "Python 3",
   "language": "python",
   "name": "python3"
  },
  "language_info": {
   "codemirror_mode": {
    "name": "ipython",
    "version": 3
   },
   "file_extension": ".py",
   "mimetype": "text/x-python",
   "name": "python",
   "nbconvert_exporter": "python",
   "pygments_lexer": "ipython3",
   "version": "3.6.5"
  }
 },
 "nbformat": 4,
 "nbformat_minor": 2
}
